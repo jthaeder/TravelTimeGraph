{
 "cells": [
  {
   "cell_type": "code",
   "execution_count": 1,
   "metadata": {
    "collapsed": false
   },
   "outputs": [],
   "source": [
    "import googlemaps\n",
    "from datetime import datetime\n",
    "from datetime import timedelta\n",
    "\n",
    "import os\n",
    "import pandas as pd\n",
    "import numpy as np\n",
    "\n",
    "import matplotlib.pyplot as plt\n",
    "import matplotlib\n",
    "import matplotlib.dates as mdates\n",
    "import seaborn as sns\n",
    "\n",
    "%matplotlib inline\n",
    "sns.set(style=\"whitegrid\", color_codes=True)"
   ]
  },
  {
   "cell_type": "markdown",
   "metadata": {},
   "source": [
    "* Get GOOGLE API KEY, enabled for GOOGLE direction api\n",
    "* export key as GOOGLE_API_KEY"
   ]
  },
  {
   "cell_type": "code",
   "execution_count": 2,
   "metadata": {
    "collapsed": false
   },
   "outputs": [],
   "source": [
    "api_key = os.getenv('GOOGLE_API_KEY', 'empty')\n",
    "if api_key:\n",
    "    gmaps = googlemaps.Client(key=api_key)"
   ]
  },
  {
   "cell_type": "markdown",
   "metadata": {},
   "source": [
    "## Defaults"
   ]
  },
  {
   "cell_type": "code",
   "execution_count": 3,
   "metadata": {
    "collapsed": true
   },
   "outputs": [],
   "source": [
    "# Traffic models\n",
    "traffic_model_array = ['best_guess', 'pessimistic', 'optimistic']\n",
    "default_start_hour = 5 # am \n",
    "default_end_hour = 2   # am\n",
    "time_granularity = 5   # min"
   ]
  },
  {
   "cell_type": "markdown",
   "metadata": {},
   "source": [
    "# Methods"
   ]
  },
  {
   "cell_type": "code",
   "execution_count": 4,
   "metadata": {
    "collapsed": true
   },
   "outputs": [],
   "source": [
    "def getTimeEntry(route_tag, timestamp):\n",
    "    \"\"\"Get Time entry for timestamp\n",
    "    \n",
    "        returns time_entry dict\n",
    "            dict_keys(['best_guess', 'timestamp', 'duration', 'pessimistic', 'optimistic'])\n",
    "    \"\"\"\n",
    "    time_entry = dict()\n",
    "    time_entry['timestamp'] = timestamp\n",
    "\n",
    "    for model in traffic_model_array:\n",
    "        direction = gmaps.directions(route_tag['start_point'], route_tag['end_point'], \n",
    "                                     mode=\"driving\", traffic_model = model, \n",
    "                                     departure_time = timestamp)\n",
    "   \n",
    "        time_entry['duration'] = direction[0]['legs'][0]['duration']['value']\n",
    "        try:\n",
    "            time_entry[model] = direction[0]['legs'][0]['duration_in_traffic']['value']\n",
    "        except KeyError:\n",
    "            time_entry[model] = None\n",
    "    return time_entry"
   ]
  },
  {
   "cell_type": "code",
   "execution_count": 5,
   "metadata": {
    "collapsed": true
   },
   "outputs": [],
   "source": [
    "def getStartDate(day_string = \"\", default_start_hour = default_start_hour):\n",
    "    '''get starting date (\"yyyy-mm-dd)\n",
    "    \n",
    "        if today set start date to today and to the next full x minutes\n",
    "        else set start time to  \n",
    "        \n",
    "        return \"\" if date is in the pasr\n",
    "    '''\n",
    "\n",
    "    # if date is given make sure it is in the future or today \n",
    "    if day_string:\n",
    "        start_date = datetime.strptime(day_string, \"%Y-%m-%d\")  \n",
    "    \n",
    "        if \tstart_date.date() < datetime.today().date():\n",
    "            print(\"Date is in past!\")\n",
    "            return \"\"\n",
    "            \n",
    "        elif start_date.date() != datetime.today().date():\n",
    "            start_date = start_date.replace(hour=default_start_hour, minute=0) \n",
    "            return start_date\n",
    "\n",
    "        \n",
    "    # Set start date to today and to the next full x minutes\n",
    "    start_date = datetime.now() \n",
    "    start_date += timedelta(minutes=time_granularity)\n",
    "    start_date -= timedelta(minutes=start_date.minute % time_granularity, \n",
    "                            seconds=start_date.second, \n",
    "                            microseconds=start_date.microsecond)\n",
    "\n",
    "    return start_date"
   ]
  },
  {
   "cell_type": "code",
   "execution_count": 6,
   "metadata": {
    "collapsed": false
   },
   "outputs": [],
   "source": [
    "def getRouteOneDirection(route_tag):\n",
    "    \"\"\"Get Routes in one direction\n",
    "    \n",
    "        return route\n",
    "    \"\"\"\n",
    "\n",
    "    route = getRoute(route_tag)\n",
    "    df = getDataFrame(route)\n",
    "    plotRouteGraph(df, route)  \n",
    "    \n",
    "    return route"
   ]
  },
  {
   "cell_type": "code",
   "execution_count": 7,
   "metadata": {
    "collapsed": true
   },
   "outputs": [],
   "source": [
    "def getRouteBothDirections(route_tag):\n",
    "    \"\"\"Get Routes in both directions\n",
    "    \n",
    "        return route, route_back\n",
    "    \"\"\"\n",
    "    \n",
    "    route = getRoute(route_tag)\n",
    "    df = getDataFrame(route)\n",
    "    plotRouteGraph(df, route)  \n",
    "    \n",
    "    route_tag_back = dict()\n",
    "    \n",
    "    route_tag_back['route_date']  = route_tag['route_date']\n",
    "    route_tag_back['start_point'] = route_tag['end_point'] \n",
    "    route_tag_back['end_point'] = route_tag['start_point'] \n",
    "    route_tag_back['route_tag'] = 'Reverse_{}'.format(route_tag['route_tag'])\n",
    "    \n",
    "    if '-' in route_tag['route_tag']:\n",
    "        tags = route_tag['route_tag'].split('-')\n",
    "        route_tag_back['route_tag'] = '{}-{}'.format(tags[1], tags[0])\n",
    "     \n",
    "    route_back = getRoute(route_tag_back)\n",
    "    df_back = getDataFrame(route_back)\n",
    "    plotRouteGraph(df_back, route_back) \n",
    "    \n",
    "    return route, route_back    "
   ]
  },
  {
   "cell_type": "code",
   "execution_count": 8,
   "metadata": {
    "collapsed": false
   },
   "outputs": [],
   "source": [
    "def getRoute(route_tag):\n",
    "    \"\"\"Get Route for time window\n",
    "    \n",
    "        returns route dict\n",
    "    \"\"\"\n",
    "      \n",
    "    start_date = getStartDate(route_tag['route_date'])\n",
    "    \n",
    "    if start_date:\n",
    "        end_date = start_date + timedelta(days=1)\n",
    "        end_date = end_date.replace(hour=default_end_hour, minute=0) \n",
    "\n",
    "        route_tag['day'] = start_date.today().strftime('%Y-%m-%d')\n",
    "        route_tag['time_list'] = []\n",
    "        \n",
    "        while 1:\n",
    "            route_tag['time_list'].append(getTimeEntry(route_tag, start_date))\n",
    "            start_date = start_date + timedelta(minutes=time_granularity)\n",
    "                    \n",
    "            if start_date > end_date:\n",
    "                break\n",
    "                \n",
    "    return route_tag"
   ]
  },
  {
   "cell_type": "code",
   "execution_count": 9,
   "metadata": {
    "collapsed": true
   },
   "outputs": [],
   "source": [
    "def getDataFrame(route):\n",
    "    '''Prepare DataFrame out of route\n",
    "    \n",
    "        return DataFrame\n",
    "    '''\n",
    "    \n",
    "    df = pd.DataFrame.from_records(route['time_list'])\n",
    "\n",
    "    # set index to time\n",
    "    df.set_index(['timestamp'],inplace=True)\n",
    "\n",
    "    # temp for this route\n",
    "    df.interpolate(inplace=True)\n",
    "\n",
    "    # seconds to minutes\n",
    "    df['duration'] = df['duration']/60\n",
    "    for item in traffic_model_array:\n",
    "        df[item] = df[item]/60\n",
    "    \n",
    "    return df"
   ]
  },
  {
   "cell_type": "code",
   "execution_count": 10,
   "metadata": {
    "collapsed": false
   },
   "outputs": [],
   "source": [
    "def plotRouteGraph(df, route):\n",
    "    \"\"\"Plot route graph\"\"\"\n",
    "\n",
    "    with sns.axes_style(\"ticks\"):\n",
    "        plt.figure(figsize=(18, 8))\n",
    "        plt.subplots_adjust(hspace=0.001)\n",
    "\n",
    "        plt.subplots_adjust(top=0.93)\n",
    "    \n",
    "        ax1 = plt.subplot(1, 1, 1)\n",
    "        ax1.grid(True)\n",
    "\n",
    "        fields = {'best_guess': \"Best Guess\",  \n",
    "                  'duration': \"no Traffic Info\", \n",
    "                  'pessimistic': \"Pessimistic\", \n",
    "                  'optimistic': \"Optimistc\"}\n",
    "\n",
    "        field_c = {'best_guess': \"green\",  \n",
    "                  'duration': \"brown\", \n",
    "                  'pessimistic': \"grey\", \n",
    "                  'optimistic': \"grey\"}\n",
    "        \n",
    "        field_l = {'best_guess': \"-\",  \n",
    "                  'duration': \"-.\", \n",
    "                  'pessimistic': \"--\", \n",
    "                  'optimistic': \"--\"}\n",
    "\n",
    "        pltList = []\n",
    "        for key, value in fields.items(): \n",
    "            plt1, = ax1.plot_date(x=df.index, y=df[key], label=value, color=field_c[key], fmt=field_l[key])\n",
    "            if key == 'best_guess' or key == 'duration':\n",
    "                pltList.append(plt1)\n",
    "            \n",
    "        ax1.fill_between(x=df.index ,y1=df['pessimistic'], y2=df['optimistic'], \n",
    "                         alpha=.2, facecolor='grey', interpolate=True)\n",
    "    \n",
    "        # Set x-axis\n",
    "        plt.xlabel('Day: {}'.format(df.index[0].strftime('%Y-%m-%d')), fontsize='large')\n",
    "    \n",
    "        # Set y-axis\n",
    "        total_min = min([df[key].min() for key in fields.keys()])\n",
    "        total_max = max([df[key].max() for key in fields.keys()])\n",
    "        ax1.set(ylim=(total_min*0.9, total_max*1.1))\n",
    "        plt.ylabel('Duration (min)', fontsize='large')\n",
    "\n",
    "        # Legend\n",
    "        plt.legend(handles=pltList, loc=1)\n",
    " \n",
    "        # -- Text\n",
    "        text = \"{}, {}\\nStart: {}\\nEnd: {}\\nCreated {}\".format(route['route_tag'], \n",
    "                                                               df.index[0].strftime('%Y-%m-%d'), \n",
    "                                                               route['end_point'], route['start_point'], \n",
    "                                                               route['day'])\n",
    "        ax1.text(df.index[round(len(df)* 0.03)], total_max*1.02, text, ha='left', backgroundcolor=\"white\")\n",
    "\n",
    "        plt.show()"
   ]
  }
 ],
 "metadata": {
  "kernelspec": {
   "display_name": "Python 3",
   "language": "python",
   "name": "python3"
  },
  "language_info": {
   "codemirror_mode": {
    "name": "ipython",
    "version": 3
   },
   "file_extension": ".py",
   "mimetype": "text/x-python",
   "name": "python",
   "nbconvert_exporter": "python",
   "pygments_lexer": "ipython3",
   "version": "3.4.4"
  }
 },
 "nbformat": 4,
 "nbformat_minor": 2
}
